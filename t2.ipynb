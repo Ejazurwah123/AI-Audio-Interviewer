{
 "cells": [
  {
   "cell_type": "code",
   "execution_count": null,
   "metadata": {},
   "outputs": [],
   "source": [
    "pip install wikipedia"
   ]
  },
  {
   "cell_type": "code",
   "execution_count": 2,
   "metadata": {},
   "outputs": [
    {
     "name": "stdout",
     "output_type": "stream",
     "text": [
      "Collecting textblob\n",
      "  Using cached textblob-0.18.0.post0-py3-none-any.whl (626 kB)\n",
      "Collecting nltk>=3.8 (from textblob)\n",
      "  Using cached nltk-3.8.1-py3-none-any.whl (1.5 MB)\n",
      "Requirement already satisfied: click in ./myenv/lib/python3.11/site-packages (from nltk>=3.8->textblob) (8.1.7)\n",
      "Collecting joblib (from nltk>=3.8->textblob)\n",
      "  Using cached joblib-1.4.2-py3-none-any.whl (301 kB)\n",
      "Collecting regex>=2021.8.3 (from nltk>=3.8->textblob)\n",
      "  Using cached regex-2024.5.15-cp311-cp311-macosx_10_9_x86_64.whl (281 kB)\n",
      "Requirement already satisfied: tqdm in ./myenv/lib/python3.11/site-packages (from nltk>=3.8->textblob) (4.66.4)\n",
      "Installing collected packages: regex, joblib, nltk, textblob\n",
      "Successfully installed joblib-1.4.2 nltk-3.8.1 regex-2024.5.15 textblob-0.18.0.post0\n",
      "\n",
      "\u001b[1m[\u001b[0m\u001b[34;49mnotice\u001b[0m\u001b[1;39;49m]\u001b[0m\u001b[39;49m A new release of pip is available: \u001b[0m\u001b[31;49m23.1.2\u001b[0m\u001b[39;49m -> \u001b[0m\u001b[32;49m24.1.1\u001b[0m\n",
      "\u001b[1m[\u001b[0m\u001b[34;49mnotice\u001b[0m\u001b[1;39;49m]\u001b[0m\u001b[39;49m To update, run: \u001b[0m\u001b[32;49mpip install --upgrade pip\u001b[0m\n",
      "Note: you may need to restart the kernel to use updated packages.\n"
     ]
    }
   ],
   "source": [
    "pip install textblob"
   ]
  },
  {
   "cell_type": "code",
   "execution_count": 2,
   "metadata": {},
   "outputs": [
    {
     "name": "stdout",
     "output_type": "stream",
     "text": [
      "Collecting gtts\n",
      "  Downloading gTTS-2.5.1-py3-none-any.whl (29 kB)\n",
      "Requirement already satisfied: requests<3,>=2.27 in ./myenv/lib/python3.11/site-packages (from gtts) (2.32.3)\n",
      "Requirement already satisfied: click<8.2,>=7.1 in ./myenv/lib/python3.11/site-packages (from gtts) (8.1.7)\n",
      "Requirement already satisfied: charset-normalizer<4,>=2 in ./myenv/lib/python3.11/site-packages (from requests<3,>=2.27->gtts) (3.3.2)\n",
      "Requirement already satisfied: idna<4,>=2.5 in ./myenv/lib/python3.11/site-packages (from requests<3,>=2.27->gtts) (3.7)\n",
      "Requirement already satisfied: urllib3<3,>=1.21.1 in ./myenv/lib/python3.11/site-packages (from requests<3,>=2.27->gtts) (2.2.2)\n",
      "Requirement already satisfied: certifi>=2017.4.17 in ./myenv/lib/python3.11/site-packages (from requests<3,>=2.27->gtts) (2024.7.4)\n",
      "Installing collected packages: gtts\n",
      "Successfully installed gtts-2.5.1\n",
      "\n",
      "\u001b[1m[\u001b[0m\u001b[34;49mnotice\u001b[0m\u001b[1;39;49m]\u001b[0m\u001b[39;49m A new release of pip is available: \u001b[0m\u001b[31;49m23.1.2\u001b[0m\u001b[39;49m -> \u001b[0m\u001b[32;49m24.1.1\u001b[0m\n",
      "\u001b[1m[\u001b[0m\u001b[34;49mnotice\u001b[0m\u001b[1;39;49m]\u001b[0m\u001b[39;49m To update, run: \u001b[0m\u001b[32;49mpip install --upgrade pip\u001b[0m\n",
      "Note: you may need to restart the kernel to use updated packages.\n"
     ]
    }
   ],
   "source": [
    "pip install gtts"
   ]
  },
  {
   "cell_type": "code",
   "execution_count": 1,
   "metadata": {},
   "outputs": [
    {
     "name": "stdout",
     "output_type": "stream",
     "text": [
      "Interview started. Please answer the following questions:\n"
     ]
    },
    {
     "name": "stderr",
     "output_type": "stream",
     "text": [
      "High Performance MPEG 1.0/2.0/2.5 Audio Player for Layers 1, 2 and 3\n",
      "\tversion 1.32.3; written and copyright by Michael Hipp and others\n",
      "\tfree software (LGPL) without any warranty but with best wishes\n",
      "\n",
      "Playing MPEG stream 1 of 1: question1.mp3 ...\n",
      "\n",
      "MPEG 2.0 L III cbr64 24000 mono\n",
      "\n",
      "[0:09] Decoding of question1.mp3 finished.\n"
     ]
    },
    {
     "name": "stdout",
     "output_type": "stream",
     "text": [
      "You answered: It was good, I got to learn so many things which involved programming languages and projects using sql and python\n"
     ]
    },
    {
     "name": "stderr",
     "output_type": "stream",
     "text": [
      "High Performance MPEG 1.0/2.0/2.5 Audio Player for Layers 1, 2 and 3\n",
      "\tversion 1.32.3; written and copyright by Michael Hipp and others\n",
      "\tfree software (LGPL) without any warranty but with best wishes\n",
      "\n",
      "Playing MPEG stream 1 of 1: question2.mp3 ...\n",
      "\n",
      "MPEG 2.0 L III cbr64 24000 mono\n",
      "\n",
      "[0:07] Decoding of question2.mp3 finished.\n"
     ]
    },
    {
     "name": "stdout",
     "output_type": "stream",
     "text": [
      "You answered: I learned sql alongside python and used both of them in my recent project of web scraping which involved FLASK as well.\n"
     ]
    },
    {
     "name": "stderr",
     "output_type": "stream",
     "text": [
      "High Performance MPEG 1.0/2.0/2.5 Audio Player for Layers 1, 2 and 3\n",
      "\tversion 1.32.3; written and copyright by Michael Hipp and others\n",
      "\tfree software (LGPL) without any warranty but with best wishes\n",
      "\n",
      "Playing MPEG stream 1 of 1: question3.mp3 ...\n",
      "\n",
      "MPEG 2.0 L III cbr64 24000 mono\n",
      "\n",
      "[0:07] Decoding of question3.mp3 finished.\n"
     ]
    },
    {
     "name": "stdout",
     "output_type": "stream",
     "text": [
      "You answered: My 5 years experience with these programming languages and frameworks have been remarkable\n"
     ]
    },
    {
     "name": "stderr",
     "output_type": "stream",
     "text": [
      "High Performance MPEG 1.0/2.0/2.5 Audio Player for Layers 1, 2 and 3\n",
      "\tversion 1.32.3; written and copyright by Michael Hipp and others\n",
      "\tfree software (LGPL) without any warranty but with best wishes\n",
      "\n",
      "Playing MPEG stream 1 of 1: question4.mp3 ...\n",
      "\n",
      "MPEG 2.0 L III cbr64 24000 mono\n",
      "\n",
      "[0:07] Decoding of question4.mp3 finished.\n"
     ]
    },
    {
     "name": "stdout",
     "output_type": "stream",
     "text": [
      "You answered: I got to make so many projects in python one of which was AI interviewer\n"
     ]
    },
    {
     "name": "stderr",
     "output_type": "stream",
     "text": [
      "High Performance MPEG 1.0/2.0/2.5 Audio Player for Layers 1, 2 and 3\n",
      "\tversion 1.32.3; written and copyright by Michael Hipp and others\n",
      "\tfree software (LGPL) without any warranty but with best wishes\n",
      "\n",
      "Playing MPEG stream 1 of 1: question5.mp3 ...\n",
      "\n",
      "MPEG 2.0 L III cbr64 24000 mono\n",
      "\n",
      "[0:06] Decoding of question5.mp3 finished.\n"
     ]
    },
    {
     "name": "stdout",
     "output_type": "stream",
     "text": [
      "You answered: I joined as an intern at a company and over there my role was to maintain the software code given by the developers\n"
     ]
    },
    {
     "name": "stderr",
     "output_type": "stream",
     "text": [
      "High Performance MPEG 1.0/2.0/2.5 Audio Player for Layers 1, 2 and 3\n",
      "\tversion 1.32.3; written and copyright by Michael Hipp and others\n",
      "\tfree software (LGPL) without any warranty but with best wishes\n",
      "\n",
      "Playing MPEG stream 1 of 1: question6.mp3 ...\n",
      "\n",
      "MPEG 2.0 L III cbr64 24000 mono\n",
      "\n",
      "[0:06] Decoding of question6.mp3 finished.\n"
     ]
    },
    {
     "name": "stdout",
     "output_type": "stream",
     "text": [
      "You answered: By taking part in internships and several jobs\n"
     ]
    },
    {
     "name": "stderr",
     "output_type": "stream",
     "text": [
      "High Performance MPEG 1.0/2.0/2.5 Audio Player for Layers 1, 2 and 3\n",
      "\tversion 1.32.3; written and copyright by Michael Hipp and others\n",
      "\tfree software (LGPL) without any warranty but with best wishes\n",
      "\n",
      "Playing MPEG stream 1 of 1: question7.mp3 ...\n",
      "\n",
      "MPEG 2.0 L III cbr64 24000 mono\n",
      "\n",
      "[0:06] Decoding of question7.mp3 finished.\n"
     ]
    },
    {
     "name": "stdout",
     "output_type": "stream",
     "text": [
      "You answered: Sorry?\n"
     ]
    },
    {
     "name": "stderr",
     "output_type": "stream",
     "text": [
      "High Performance MPEG 1.0/2.0/2.5 Audio Player for Layers 1, 2 and 3\n",
      "\tversion 1.32.3; written and copyright by Michael Hipp and others\n",
      "\tfree software (LGPL) without any warranty but with best wishes\n",
      "\n",
      "Playing MPEG stream 1 of 1: question8.mp3 ...\n",
      "\n",
      "MPEG 2.0 L III cbr64 24000 mono\n",
      "\n",
      "[0:06] Decoding of question8.mp3 finished.\n"
     ]
    },
    {
     "name": "stdout",
     "output_type": "stream",
     "text": [
      "You answered: By implementing projects such Linear regression Models, Tensorflow Models and AI models\n"
     ]
    },
    {
     "name": "stderr",
     "output_type": "stream",
     "text": [
      "High Performance MPEG 1.0/2.0/2.5 Audio Player for Layers 1, 2 and 3\n",
      "\tversion 1.32.3; written and copyright by Michael Hipp and others\n",
      "\tfree software (LGPL) without any warranty but with best wishes\n",
      "\n",
      "Playing MPEG stream 1 of 1: question9.mp3 ...\n",
      "\n",
      "MPEG 2.0 L III cbr64 24000 mono\n",
      "\n",
      "[0:06] Decoding of question9.mp3 finished.\n"
     ]
    },
    {
     "name": "stdout",
     "output_type": "stream",
     "text": [
      "You answered: I implemented my those skills in the industry where I applied for my internship\n"
     ]
    },
    {
     "name": "stderr",
     "output_type": "stream",
     "text": [
      "High Performance MPEG 1.0/2.0/2.5 Audio Player for Layers 1, 2 and 3\n",
      "\tversion 1.32.3; written and copyright by Michael Hipp and others\n",
      "\tfree software (LGPL) without any warranty but with best wishes\n",
      "\n",
      "Playing MPEG stream 1 of 1: question10.mp3 ...\n",
      "\n",
      "MPEG 2.0 L III cbr64 24000 mono\n",
      "\n",
      "[0:35] Decoding of question10.mp3 finished.\n"
     ]
    },
    {
     "name": "stdout",
     "output_type": "stream",
     "text": [
      "You answered: Yes I deployed a website named My_AI\n",
      "\n",
      "Follow-up Questions:\n"
     ]
    },
    {
     "name": "stderr",
     "output_type": "stream",
     "text": [
      "High Performance MPEG 1.0/2.0/2.5 Audio Player for Layers 1, 2 and 3\n",
      "\tversion 1.32.3; written and copyright by Michael Hipp and others\n",
      "\tfree software (LGPL) without any warranty but with best wishes\n",
      "\n",
      "Playing MPEG stream 1 of 1: follow_up1.mp3 ...\n",
      "\n",
      "MPEG 2.0 L III cbr64 24000 mono\n",
      "\n",
      "[0:06] Decoding of follow_up1.mp3 finished.\n"
     ]
    },
    {
     "name": "stdout",
     "output_type": "stream",
     "text": [
      "You answered: I got to learn LLM, langchain, Typescript and much more\n"
     ]
    },
    {
     "name": "stderr",
     "output_type": "stream",
     "text": [
      "High Performance MPEG 1.0/2.0/2.5 Audio Player for Layers 1, 2 and 3\n",
      "\tversion 1.32.3; written and copyright by Michael Hipp and others\n",
      "\tfree software (LGPL) without any warranty but with best wishes\n",
      "\n",
      "Playing MPEG stream 1 of 1: follow_up2.mp3 ...\n",
      "\n",
      "MPEG 2.0 L III cbr64 24000 mono\n",
      "\n",
      "[0:07] Decoding of follow_up2.mp3 finished.\n"
     ]
    },
    {
     "name": "stdout",
     "output_type": "stream",
     "text": [
      "You answered: My co-workers were a bit bossy, so I had to deal with a very smart way with them to make them do the best work\n"
     ]
    },
    {
     "name": "stderr",
     "output_type": "stream",
     "text": [
      "High Performance MPEG 1.0/2.0/2.5 Audio Player for Layers 1, 2 and 3\n",
      "\tversion 1.32.3; written and copyright by Michael Hipp and others\n",
      "\tfree software (LGPL) without any warranty but with best wishes\n",
      "\n",
      "Playing MPEG stream 1 of 1: follow_up3.mp3 ...\n",
      "\n",
      "MPEG 2.0 L III cbr64 24000 mono\n",
      "\n",
      "[0:07] Decoding of follow_up3.mp3 finished.\n"
     ]
    },
    {
     "name": "stdout",
     "output_type": "stream",
     "text": [
      "You answered: Nothing special, it was just my patience and my professional attitude towards my work\n"
     ]
    },
    {
     "name": "stderr",
     "output_type": "stream",
     "text": [
      "High Performance MPEG 1.0/2.0/2.5 Audio Player for Layers 1, 2 and 3\n",
      "\tversion 1.32.3; written and copyright by Michael Hipp and others\n",
      "\tfree software (LGPL) without any warranty but with best wishes\n",
      "\n",
      "Playing MPEG stream 1 of 1: result.mp3 ...\n",
      "\n",
      "MPEG 2.0 L III cbr64 24000 mono\n",
      "\n",
      "[0:03] Decoding of result.mp3 finished.\n"
     ]
    }
   ],
   "source": [
    "import spacy\n",
    "from collections import Counter\n",
    "from spacy.tokens import Span\n",
    "import re\n",
    "import random\n",
    "import wikipedia\n",
    "import textblob\n",
    "from textblob import TextBlob\n",
    "import gtts\n",
    "from gtts import gTTS\n",
    "import os\n",
    "\n",
    "# Load the English language model\n",
    "nlp = spacy.load(\"en_core_web_sm\")\n",
    "\n",
    "def extract_sentences(cv_file):\n",
    "    # Read the CV file\n",
    "    with open(cv_file, 'r') as file:\n",
    "        cv_text = file.read()\n",
    "\n",
    "    # Split the CV text into sentences\n",
    "    sentences = re.split(r'[.!?]+', cv_text)\n",
    "    return sentences\n",
    "\n",
    "def extract_entities(sentences):\n",
    "    # Extract named entities and their types from the sentences\n",
    "    all_entities = []\n",
    "    all_entity_labels = []\n",
    "    for sentence in sentences:\n",
    "        doc = nlp(sentence)\n",
    "        entities = [ent for ent in doc.ents]\n",
    "        all_entities.extend(entities)\n",
    "        all_entity_labels.extend([ent.label_ for ent in entities])\n",
    "\n",
    "    # Count the most common entity types\n",
    "    entity_counts = Counter(all_entity_labels)\n",
    "    top_entity_types = [ent_type for ent_type, count in entity_counts.most_common(3)]\n",
    "\n",
    "    return all_entities, top_entity_types\n",
    "\n",
    "def identify_skills(sentences):\n",
    "    # Extract skills from the sentences\n",
    "    skills = []\n",
    "    for sentence in sentences:\n",
    "        doc = nlp(sentence)\n",
    "        skills.extend([token.text for token in doc if not token.is_stop and not token.is_punct and token.pos_ == \"NOUN\"])\n",
    "\n",
    "    # Count the most common skills\n",
    "    skill_counts = Counter(skills)\n",
    "    top_skills = [skill for skill, count in skill_counts.most_common(5)]\n",
    "\n",
    "    return top_skills\n",
    "\n",
    "def summarize_cv(sentences):\n",
    "    # Summarize the CV content\n",
    "    summary = \"\"\n",
    "    for sentence in sentences:\n",
    "        doc = nlp(sentence)\n",
    "        summary += \" \" + sentence\n",
    "\n",
    "    return summary\n",
    "\n",
    "def generate_questions(entities, top_entity_types, top_skills, summary):\n",
    "    # Generate questions based on the extracted information\n",
    "    questions = []\n",
    "    follow_up_questions = []\n",
    "\n",
    "    # Entity-based questions\n",
    "    for ent_type in top_entity_types:\n",
    "        ent_questions = [f\"Can you tell me more about your experience with {ent.text} during your time at {ent.root.head.text}?\" for ent in entities if ent.label_ == ent_type]\n",
    "        questions.extend(ent_questions)\n",
    "\n",
    "    # Skill-based questions\n",
    "    for skill in top_skills:\n",
    "        skill_question = f\"How have you utilized your {skill} skills in your previous roles?\"\n",
    "        questions.append(skill_question)\n",
    "\n",
    "    # Summarization-based questions\n",
    "    summary_question = f\"I noticed the summary mentioned {summary}. Can you elaborate on your specific contributions in that area?\"\n",
    "    questions.append(summary_question)\n",
    "\n",
    "    # Follow-up questions\n",
    "    follow_up_questions = [\n",
    "        \"Can you provide more details on your achievements in that role?\",\n",
    "        \"How did you overcome any challenges you faced while working on that project?\",\n",
    "        \"What was your specific contribution to the team's success in that endeavor?\"\n",
    "    ]\n",
    "\n",
    "    return questions, follow_up_questions\n",
    "\n",
    "def analyze_answers(sentences, answers):\n",
    "    # Analyze the answers for factual information, general knowledge, and harsh/non-serious responses\n",
    "    is_factual_cv = False\n",
    "    is_general_knowledge = False\n",
    "    is_harsh_or_non_serious = False\n",
    "\n",
    "    # Implement your answer analysis logic here\n",
    "    # ...\n",
    "\n",
    "    return is_factual_cv, is_general_knowledge, is_harsh_or_non_serious\n",
    "\n",
    "def conduct_interview(questions, follow_up_questions):\n",
    "    score = 100\n",
    "\n",
    "    print(\"Interview started. Please answer the following questions:\")\n",
    "\n",
    "    for i, question in enumerate(questions):\n",
    "        tts = gTTS(text=f\"Question {i+1}: {question}\", lang='en')\n",
    "        tts.save(f\"question{i+1}.mp3\")\n",
    "        os.system(f\"mpg123 question{i+1}.mp3\")\n",
    "        answer = input(f\"Answer {i+1}: \")\n",
    "        print(f\"You answered: {answer}\")\n",
    "        is_factual_cv, is_general_knowledge, is_harsh_or_non_serious = analyze_answers(sentences, [answer])\n",
    "        if is_harsh_or_non_serious:\n",
    "            score -= 10  # Decrease score by 10 for a harsh or non-serious response\n",
    "        if score <= 0:\n",
    "            tts = gTTS(text=\"Interview selection result: Not selected\", lang='en')\n",
    "            tts.save(\"result.mp3\")\n",
    "            os.system(\"mpg123 result.mp3\")\n",
    "            return\n",
    "        if is_factual_cv and is_general_knowledge:\n",
    "            tts = gTTS(text=\"Interview selection result: Selected\", lang='en')\n",
    "            tts.save(\"result.mp3\")\n",
    "            os.system(\"mpg123 result.mp3\")\n",
    "            break\n",
    "\n",
    "    print(\"\\nFollow-up Questions:\")\n",
    "    for i, follow_up_question in enumerate(follow_up_questions):\n",
    "        tts = gTTS(text=f\"Follow-up Question {i+1}: {follow_up_question}\", lang='en')\n",
    "        tts.save(f\"follow_up{i+1}.mp3\")\n",
    "        os.system(f\"mpg123 follow_up{i+1}.mp3\")\n",
    "        answer = input(f\"Answer {i+1}: \")\n",
    "        print(f\"You answered: {answer}\")\n",
    "        is_factual_cv, is_general_knowledge, is_harsh_or_non_serious = analyze_answers(sentences, [answer])\n",
    "        if is_harsh_or_non_serious:\n",
    "            score -= 10  # Decrease score by 10 for a harsh or non-serious response\n",
    "        if score <= 0:\n",
    "            tts = gTTS(text=\"Interview selection result: Not selected\", lang='en')\n",
    "            tts.save(\"result.mp3\")\n",
    "            os.system(\"mpg123 result.mp3\")\n",
    "            return\n",
    "        if is_factual_cv and is_general_knowledge:\n",
    "            tts = gTTS(text=\"Interview selection result: Selected\", lang='en')\n",
    "            tts.save(\"result.mp3\")\n",
    "            os.system(\"mpg123 result.mp3\")\n",
    "            break\n",
    "\n",
    "    if score > 0:\n",
    "        tts = gTTS(text=f\"Your final score is: {score}\", lang='en')\n",
    "        tts.save(\"result.mp3\")\n",
    "        os.system(\"mpg123 result.mp3\")\n",
    "    else:\n",
    "        tts = gTTS(text=\"Interview selection result: Not selected\", lang='en')\n",
    "        tts.save(\"result.mp3\")\n",
    "        os.system(\"mpg123 result.mp3\")\n",
    "\n",
    "# Example usage\n",
    "cv_file = \"cv.txt\"\n",
    "sentences = extract_sentences(cv_file)\n",
    "entities, top_entity_types = extract_entities(sentences)\n",
    "top_skills = identify_skills(sentences)\n",
    "summary = summarize_cv(sentences)\n",
    "questions, follow_up_questions = generate_questions(entities, top_entity_types, top_skills, summary)\n",
    "\n",
    "conduct_interview(questions, follow_up_questions)\n"
   ]
  },
  {
   "cell_type": "code",
   "execution_count": null,
   "metadata": {},
   "outputs": [],
   "source": []
  }
 ],
 "metadata": {
  "kernelspec": {
   "display_name": "myenv",
   "language": "python",
   "name": "python3"
  },
  "language_info": {
   "codemirror_mode": {
    "name": "ipython",
    "version": 3
   },
   "file_extension": ".py",
   "mimetype": "text/x-python",
   "name": "python",
   "nbconvert_exporter": "python",
   "pygments_lexer": "ipython3",
   "version": "3.11.4"
  }
 },
 "nbformat": 4,
 "nbformat_minor": 2
}
